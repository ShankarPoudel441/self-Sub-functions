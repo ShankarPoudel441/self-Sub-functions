{
  "nbformat": 4,
  "nbformat_minor": 0,
  "metadata": {
    "colab": {
      "name": "Create_mask_unet_01_mammogram.ipynb",
      "provenance": [],
      "authorship_tag": "ABX9TyP2vSMXyVGPKgWxysKPMsfc",
      "include_colab_link": true
    },
    "kernelspec": {
      "name": "python3",
      "display_name": "Python 3"
    },
    "language_info": {
      "name": "python"
    }
  },
  "cells": [
    {
      "cell_type": "markdown",
      "metadata": {
        "id": "view-in-github",
        "colab_type": "text"
      },
      "source": [
        "<a href=\"https://colab.research.google.com/github/ShankarPoudel441/self-Sub-functions/blob/main/Create_mask_unet_01_mammogram.ipynb\" target=\"_parent\"><img src=\"https://colab.research.google.com/assets/colab-badge.svg\" alt=\"Open In Colab\"/></a>"
      ]
    },
    {
      "cell_type": "code",
      "execution_count": null,
      "metadata": {
        "colab": {
          "base_uri": "https://localhost:8080/"
        },
        "id": "dML3_f8j-T9S",
        "outputId": "aafa8ce0-4e1c-4184-8eac-a216058e85f5"
      },
      "outputs": [
        {
          "output_type": "stream",
          "name": "stdout",
          "text": [
            "Collecting varname\n",
            "  Downloading varname-0.8.3-py3-none-any.whl (21 kB)\n",
            "Collecting executing<0.9.0,>=0.8.3\n",
            "  Downloading executing-0.8.3-py2.py3-none-any.whl (16 kB)\n",
            "Collecting pure_eval<1.0.0\n",
            "  Downloading pure_eval-0.2.2-py3-none-any.whl (11 kB)\n",
            "Collecting asttokens<3.0.0,>=2.0.0\n",
            "  Downloading asttokens-2.0.5-py2.py3-none-any.whl (20 kB)\n",
            "Requirement already satisfied: six in /usr/local/lib/python3.7/dist-packages (from asttokens<3.0.0,>=2.0.0->varname) (1.15.0)\n",
            "Installing collected packages: pure-eval, executing, asttokens, varname\n",
            "Successfully installed asttokens-2.0.5 executing-0.8.3 pure-eval-0.2.2 varname-0.8.3\n"
          ]
        }
      ],
      "source": [
        "import matplotlib.pyplot as plt\n",
        "import numpy as np\n",
        "import os\n",
        "import tensorflow as tf\n",
        "import pandas as pd\n",
        "from tensorflow.keras import layers\n",
        "from PIL import Image\n",
        "from pathlib import Path\n",
        "import subprocess\n",
        "import shutil\n",
        "import datetime\n",
        "\n",
        "from typing import Tuple\n",
        "\n",
        "!pip3 install varname\n",
        "from varname import nameof\n",
        "\n",
        "# !pip3 install pickle\n",
        "import pickle\n",
        "import cv2\n",
        "\n",
        "\n",
        "from tqdm import tqdm\n",
        "tqdm.pandas()"
      ]
    },
    {
      "cell_type": "code",
      "source": [
        "from google.colab import drive\n",
        "drive.mount('/content/drive')"
      ],
      "metadata": {
        "colab": {
          "base_uri": "https://localhost:8080/"
        },
        "id": "2PyLGmC6-U_z",
        "outputId": "78418281-c95a-485d-d477-fbd9c16f6750"
      },
      "execution_count": null,
      "outputs": [
        {
          "output_type": "stream",
          "name": "stdout",
          "text": [
            "Mounted at /content/drive\n"
          ]
        }
      ]
    },
    {
      "cell_type": "code",
      "source": [
        "print(\"Num GPUs Available: \", len(tf.config.list_physical_devices('GPU')))"
      ],
      "metadata": {
        "colab": {
          "base_uri": "https://localhost:8080/"
        },
        "id": "Ji2BsFRO-W2D",
        "outputId": "6fb8c830-30ff-4603-94d5-107b0036649f"
      },
      "execution_count": null,
      "outputs": [
        {
          "output_type": "stream",
          "name": "stdout",
          "text": [
            "Num GPUs Available:  0\n"
          ]
        }
      ]
    },
    {
      "cell_type": "code",
      "source": [
        "def merge_images(list_of_images):\n",
        "  if len(list_of_images) == 1:\n",
        "    return Image.open(list_of_images[0])\n",
        "  else:\n",
        "    img=np.array(Image.open(list_of_images[0]))\n",
        "    for i in range(len(list_of_images) -1):\n",
        "      img_add=Image.open(list_of_images[i+1])\n",
        "      img=img+img_add\n",
        "    return Image.fromarray(img)"
      ],
      "metadata": {
        "id": "BlEJ_0XY-YKi"
      },
      "execution_count": null,
      "outputs": []
    },
    {
      "cell_type": "code",
      "source": [
        "to_save_path=\"/content/drive/MyDrive/CBIS-DDSM/Unet_mask/mass\"\n",
        "test_df_path='/content/drive/MyDrive/CBIS-DDSM/test_two_class_v2.csv'\n",
        "train_df_path=\"/content/drive/MyDrive/CBIS-DDSM/train_two_class_v2.csv\"\n",
        "\n",
        "def create_image_mask_csv(to_save_path, ip_csv_path, test_or_train):\n",
        "  df=pd.read_csv(ip_csv_path)\n",
        "\n",
        "\n",
        "  image_mask = df.groupby(\"image_file\")[\"mask_path\"].apply(list).reset_index(name=\"list_of_masks\")\n",
        "\n",
        "  image_mask[\"no_of_masks\"] = image_mask[\"list_of_masks\"].apply(lambda x: len(x))\n",
        "\n",
        "  image_mask[\"mask_destination\"]=image_mask[\"image_file\"].apply(lambda x: to_save_path+\"/\"+test_or_train+\"/\"+x.split(\"/\")[6]+\"_full_binary_mask.png\")\n",
        "  \n",
        "  to_print=to_save_path+\"/\"+\"Image_mask_\"+str(test_or_train)+\".csv\"\n",
        "  print(to_print)\n",
        "\n",
        "  image_mask.to_csv(to_save_path+\"/\"+\"Image_mask_\"+str(test_or_train)+\".csv\")\n",
        "  \n",
        "  return image_mask\n",
        "\n"
      ],
      "metadata": {
        "id": "MQeSe_ya-k_g"
      },
      "execution_count": null,
      "outputs": []
    },
    {
      "cell_type": "code",
      "source": [
        "image_mask_test=create_image_mask_csv(to_save_path,test_df_path,\"test\")\n",
        "image_mask_test\n",
        "image_mask_train=create_image_mask_csv(to_save_path,train_df_path,\"train\")\n",
        "image_mask_train"
      ],
      "metadata": {
        "colab": {
          "base_uri": "https://localhost:8080/",
          "height": 459
        },
        "id": "h_BmW82S-lbR",
        "outputId": "da6e8e90-e474-4fbb-b05c-853479818f0e"
      },
      "execution_count": null,
      "outputs": [
        {
          "output_type": "stream",
          "name": "stdout",
          "text": [
            "/content/drive/MyDrive/CBIS-DDSM/Unet_mask/mass/Image_mask_test.csv\n",
            "/content/drive/MyDrive/CBIS-DDSM/Unet_mask/mass/Image_mask_train.csv\n"
          ]
        },
        {
          "output_type": "execute_result",
          "data": {
            "text/plain": [
              "                                             image_file  \\\n",
              "0     /content/drive/MyDrive/CBIS-DDSM/CBIS-DDSM/Mas...   \n",
              "1     /content/drive/MyDrive/CBIS-DDSM/CBIS-DDSM/Mas...   \n",
              "2     /content/drive/MyDrive/CBIS-DDSM/CBIS-DDSM/Mas...   \n",
              "3     /content/drive/MyDrive/CBIS-DDSM/CBIS-DDSM/Mas...   \n",
              "4     /content/drive/MyDrive/CBIS-DDSM/CBIS-DDSM/Mas...   \n",
              "...                                                 ...   \n",
              "1141  /content/drive/MyDrive/CBIS-DDSM/CBIS-DDSM/Mas...   \n",
              "1142  /content/drive/MyDrive/CBIS-DDSM/CBIS-DDSM/Mas...   \n",
              "1143  /content/drive/MyDrive/CBIS-DDSM/CBIS-DDSM/Mas...   \n",
              "1144  /content/drive/MyDrive/CBIS-DDSM/CBIS-DDSM/Mas...   \n",
              "1145  /content/drive/MyDrive/CBIS-DDSM/CBIS-DDSM/Mas...   \n",
              "\n",
              "                                          list_of_masks  no_of_masks  \\\n",
              "0     [/content/drive/MyDrive/CBIS-DDSM/CBIS-DDSM/Ma...            1   \n",
              "1     [/content/drive/MyDrive/CBIS-DDSM/CBIS-DDSM/Ma...            1   \n",
              "2     [/content/drive/MyDrive/CBIS-DDSM/CBIS-DDSM/Ma...            1   \n",
              "3     [/content/drive/MyDrive/CBIS-DDSM/CBIS-DDSM/Ma...            1   \n",
              "4     [/content/drive/MyDrive/CBIS-DDSM/CBIS-DDSM/Ma...            1   \n",
              "...                                                 ...          ...   \n",
              "1141  [/content/drive/MyDrive/CBIS-DDSM/CBIS-DDSM/Ma...            1   \n",
              "1142  [/content/drive/MyDrive/CBIS-DDSM/CBIS-DDSM/Ma...            1   \n",
              "1143  [/content/drive/MyDrive/CBIS-DDSM/CBIS-DDSM/Ma...            1   \n",
              "1144  [/content/drive/MyDrive/CBIS-DDSM/CBIS-DDSM/Ma...            1   \n",
              "1145  [/content/drive/MyDrive/CBIS-DDSM/CBIS-DDSM/Ma...            1   \n",
              "\n",
              "                                       mask_destination  \n",
              "0     /content/drive/MyDrive/CBIS-DDSM/Unet_mask/mas...  \n",
              "1     /content/drive/MyDrive/CBIS-DDSM/Unet_mask/mas...  \n",
              "2     /content/drive/MyDrive/CBIS-DDSM/Unet_mask/mas...  \n",
              "3     /content/drive/MyDrive/CBIS-DDSM/Unet_mask/mas...  \n",
              "4     /content/drive/MyDrive/CBIS-DDSM/Unet_mask/mas...  \n",
              "...                                                 ...  \n",
              "1141  /content/drive/MyDrive/CBIS-DDSM/Unet_mask/mas...  \n",
              "1142  /content/drive/MyDrive/CBIS-DDSM/Unet_mask/mas...  \n",
              "1143  /content/drive/MyDrive/CBIS-DDSM/Unet_mask/mas...  \n",
              "1144  /content/drive/MyDrive/CBIS-DDSM/Unet_mask/mas...  \n",
              "1145  /content/drive/MyDrive/CBIS-DDSM/Unet_mask/mas...  \n",
              "\n",
              "[1146 rows x 4 columns]"
            ],
            "text/html": [
              "\n",
              "  <div id=\"df-bba4fb8a-0250-4624-94c1-768cb6767540\">\n",
              "    <div class=\"colab-df-container\">\n",
              "      <div>\n",
              "<style scoped>\n",
              "    .dataframe tbody tr th:only-of-type {\n",
              "        vertical-align: middle;\n",
              "    }\n",
              "\n",
              "    .dataframe tbody tr th {\n",
              "        vertical-align: top;\n",
              "    }\n",
              "\n",
              "    .dataframe thead th {\n",
              "        text-align: right;\n",
              "    }\n",
              "</style>\n",
              "<table border=\"1\" class=\"dataframe\">\n",
              "  <thead>\n",
              "    <tr style=\"text-align: right;\">\n",
              "      <th></th>\n",
              "      <th>image_file</th>\n",
              "      <th>list_of_masks</th>\n",
              "      <th>no_of_masks</th>\n",
              "      <th>mask_destination</th>\n",
              "    </tr>\n",
              "  </thead>\n",
              "  <tbody>\n",
              "    <tr>\n",
              "      <th>0</th>\n",
              "      <td>/content/drive/MyDrive/CBIS-DDSM/CBIS-DDSM/Mas...</td>\n",
              "      <td>[/content/drive/MyDrive/CBIS-DDSM/CBIS-DDSM/Ma...</td>\n",
              "      <td>1</td>\n",
              "      <td>/content/drive/MyDrive/CBIS-DDSM/Unet_mask/mas...</td>\n",
              "    </tr>\n",
              "    <tr>\n",
              "      <th>1</th>\n",
              "      <td>/content/drive/MyDrive/CBIS-DDSM/CBIS-DDSM/Mas...</td>\n",
              "      <td>[/content/drive/MyDrive/CBIS-DDSM/CBIS-DDSM/Ma...</td>\n",
              "      <td>1</td>\n",
              "      <td>/content/drive/MyDrive/CBIS-DDSM/Unet_mask/mas...</td>\n",
              "    </tr>\n",
              "    <tr>\n",
              "      <th>2</th>\n",
              "      <td>/content/drive/MyDrive/CBIS-DDSM/CBIS-DDSM/Mas...</td>\n",
              "      <td>[/content/drive/MyDrive/CBIS-DDSM/CBIS-DDSM/Ma...</td>\n",
              "      <td>1</td>\n",
              "      <td>/content/drive/MyDrive/CBIS-DDSM/Unet_mask/mas...</td>\n",
              "    </tr>\n",
              "    <tr>\n",
              "      <th>3</th>\n",
              "      <td>/content/drive/MyDrive/CBIS-DDSM/CBIS-DDSM/Mas...</td>\n",
              "      <td>[/content/drive/MyDrive/CBIS-DDSM/CBIS-DDSM/Ma...</td>\n",
              "      <td>1</td>\n",
              "      <td>/content/drive/MyDrive/CBIS-DDSM/Unet_mask/mas...</td>\n",
              "    </tr>\n",
              "    <tr>\n",
              "      <th>4</th>\n",
              "      <td>/content/drive/MyDrive/CBIS-DDSM/CBIS-DDSM/Mas...</td>\n",
              "      <td>[/content/drive/MyDrive/CBIS-DDSM/CBIS-DDSM/Ma...</td>\n",
              "      <td>1</td>\n",
              "      <td>/content/drive/MyDrive/CBIS-DDSM/Unet_mask/mas...</td>\n",
              "    </tr>\n",
              "    <tr>\n",
              "      <th>...</th>\n",
              "      <td>...</td>\n",
              "      <td>...</td>\n",
              "      <td>...</td>\n",
              "      <td>...</td>\n",
              "    </tr>\n",
              "    <tr>\n",
              "      <th>1141</th>\n",
              "      <td>/content/drive/MyDrive/CBIS-DDSM/CBIS-DDSM/Mas...</td>\n",
              "      <td>[/content/drive/MyDrive/CBIS-DDSM/CBIS-DDSM/Ma...</td>\n",
              "      <td>1</td>\n",
              "      <td>/content/drive/MyDrive/CBIS-DDSM/Unet_mask/mas...</td>\n",
              "    </tr>\n",
              "    <tr>\n",
              "      <th>1142</th>\n",
              "      <td>/content/drive/MyDrive/CBIS-DDSM/CBIS-DDSM/Mas...</td>\n",
              "      <td>[/content/drive/MyDrive/CBIS-DDSM/CBIS-DDSM/Ma...</td>\n",
              "      <td>1</td>\n",
              "      <td>/content/drive/MyDrive/CBIS-DDSM/Unet_mask/mas...</td>\n",
              "    </tr>\n",
              "    <tr>\n",
              "      <th>1143</th>\n",
              "      <td>/content/drive/MyDrive/CBIS-DDSM/CBIS-DDSM/Mas...</td>\n",
              "      <td>[/content/drive/MyDrive/CBIS-DDSM/CBIS-DDSM/Ma...</td>\n",
              "      <td>1</td>\n",
              "      <td>/content/drive/MyDrive/CBIS-DDSM/Unet_mask/mas...</td>\n",
              "    </tr>\n",
              "    <tr>\n",
              "      <th>1144</th>\n",
              "      <td>/content/drive/MyDrive/CBIS-DDSM/CBIS-DDSM/Mas...</td>\n",
              "      <td>[/content/drive/MyDrive/CBIS-DDSM/CBIS-DDSM/Ma...</td>\n",
              "      <td>1</td>\n",
              "      <td>/content/drive/MyDrive/CBIS-DDSM/Unet_mask/mas...</td>\n",
              "    </tr>\n",
              "    <tr>\n",
              "      <th>1145</th>\n",
              "      <td>/content/drive/MyDrive/CBIS-DDSM/CBIS-DDSM/Mas...</td>\n",
              "      <td>[/content/drive/MyDrive/CBIS-DDSM/CBIS-DDSM/Ma...</td>\n",
              "      <td>1</td>\n",
              "      <td>/content/drive/MyDrive/CBIS-DDSM/Unet_mask/mas...</td>\n",
              "    </tr>\n",
              "  </tbody>\n",
              "</table>\n",
              "<p>1146 rows × 4 columns</p>\n",
              "</div>\n",
              "      <button class=\"colab-df-convert\" onclick=\"convertToInteractive('df-bba4fb8a-0250-4624-94c1-768cb6767540')\"\n",
              "              title=\"Convert this dataframe to an interactive table.\"\n",
              "              style=\"display:none;\">\n",
              "        \n",
              "  <svg xmlns=\"http://www.w3.org/2000/svg\" height=\"24px\"viewBox=\"0 0 24 24\"\n",
              "       width=\"24px\">\n",
              "    <path d=\"M0 0h24v24H0V0z\" fill=\"none\"/>\n",
              "    <path d=\"M18.56 5.44l.94 2.06.94-2.06 2.06-.94-2.06-.94-.94-2.06-.94 2.06-2.06.94zm-11 1L8.5 8.5l.94-2.06 2.06-.94-2.06-.94L8.5 2.5l-.94 2.06-2.06.94zm10 10l.94 2.06.94-2.06 2.06-.94-2.06-.94-.94-2.06-.94 2.06-2.06.94z\"/><path d=\"M17.41 7.96l-1.37-1.37c-.4-.4-.92-.59-1.43-.59-.52 0-1.04.2-1.43.59L10.3 9.45l-7.72 7.72c-.78.78-.78 2.05 0 2.83L4 21.41c.39.39.9.59 1.41.59.51 0 1.02-.2 1.41-.59l7.78-7.78 2.81-2.81c.8-.78.8-2.07 0-2.86zM5.41 20L4 18.59l7.72-7.72 1.47 1.35L5.41 20z\"/>\n",
              "  </svg>\n",
              "      </button>\n",
              "      \n",
              "  <style>\n",
              "    .colab-df-container {\n",
              "      display:flex;\n",
              "      flex-wrap:wrap;\n",
              "      gap: 12px;\n",
              "    }\n",
              "\n",
              "    .colab-df-convert {\n",
              "      background-color: #E8F0FE;\n",
              "      border: none;\n",
              "      border-radius: 50%;\n",
              "      cursor: pointer;\n",
              "      display: none;\n",
              "      fill: #1967D2;\n",
              "      height: 32px;\n",
              "      padding: 0 0 0 0;\n",
              "      width: 32px;\n",
              "    }\n",
              "\n",
              "    .colab-df-convert:hover {\n",
              "      background-color: #E2EBFA;\n",
              "      box-shadow: 0px 1px 2px rgba(60, 64, 67, 0.3), 0px 1px 3px 1px rgba(60, 64, 67, 0.15);\n",
              "      fill: #174EA6;\n",
              "    }\n",
              "\n",
              "    [theme=dark] .colab-df-convert {\n",
              "      background-color: #3B4455;\n",
              "      fill: #D2E3FC;\n",
              "    }\n",
              "\n",
              "    [theme=dark] .colab-df-convert:hover {\n",
              "      background-color: #434B5C;\n",
              "      box-shadow: 0px 1px 3px 1px rgba(0, 0, 0, 0.15);\n",
              "      filter: drop-shadow(0px 1px 2px rgba(0, 0, 0, 0.3));\n",
              "      fill: #FFFFFF;\n",
              "    }\n",
              "  </style>\n",
              "\n",
              "      <script>\n",
              "        const buttonEl =\n",
              "          document.querySelector('#df-bba4fb8a-0250-4624-94c1-768cb6767540 button.colab-df-convert');\n",
              "        buttonEl.style.display =\n",
              "          google.colab.kernel.accessAllowed ? 'block' : 'none';\n",
              "\n",
              "        async function convertToInteractive(key) {\n",
              "          const element = document.querySelector('#df-bba4fb8a-0250-4624-94c1-768cb6767540');\n",
              "          const dataTable =\n",
              "            await google.colab.kernel.invokeFunction('convertToInteractive',\n",
              "                                                     [key], {});\n",
              "          if (!dataTable) return;\n",
              "\n",
              "          const docLinkHtml = 'Like what you see? Visit the ' +\n",
              "            '<a target=\"_blank\" href=https://colab.research.google.com/notebooks/data_table.ipynb>data table notebook</a>'\n",
              "            + ' to learn more about interactive tables.';\n",
              "          element.innerHTML = '';\n",
              "          dataTable['output_type'] = 'display_data';\n",
              "          await google.colab.output.renderOutput(dataTable, element);\n",
              "          const docLink = document.createElement('div');\n",
              "          docLink.innerHTML = docLinkHtml;\n",
              "          element.appendChild(docLink);\n",
              "        }\n",
              "      </script>\n",
              "    </div>\n",
              "  </div>\n",
              "  "
            ]
          },
          "metadata": {},
          "execution_count": 6
        }
      ]
    },
    {
      "cell_type": "code",
      "source": [
        "image_mask_test[\"mask_destination\"][0]"
      ],
      "metadata": {
        "colab": {
          "base_uri": "https://localhost:8080/",
          "height": 35
        },
        "id": "gB1nfYAM_wBR",
        "outputId": "9bc70552-b680-44b9-af76-3bcf3a0cd3cf"
      },
      "execution_count": null,
      "outputs": [
        {
          "output_type": "execute_result",
          "data": {
            "text/plain": [
              "'/content/drive/MyDrive/CBIS-DDSM/Unet_mask/mass/test/Mass-Test_P_00016_LEFT_CC_full_binary_mask.png'"
            ],
            "application/vnd.google.colaboratory.intrinsic+json": {
              "type": "string"
            }
          },
          "metadata": {},
          "execution_count": 7
        }
      ]
    },
    {
      "cell_type": "code",
      "source": [
        "def create_and_store_binary_mask(destination, list_of_masks):\n",
        "  mask=merge_images(list_of_masks)\n",
        "  try:\n",
        "    mask.save(destination)\n",
        "  except:\n",
        "    print(\"not written\", destination)\n",
        "    return destination\n",
        "\n",
        "def store_the_created_mask(df):\n",
        "  df.progress_apply(lambda x: create_and_store_binary_mask(x[\"mask_destination\"], x[\"list_of_masks\"]), axis=1)"
      ],
      "metadata": {
        "id": "hatiiUsN-pXR"
      },
      "execution_count": null,
      "outputs": []
    },
    {
      "cell_type": "code",
      "source": [
        "# store_the_created_mask(image_mask_test)\n",
        "# store_the_created_mask(image_mask_train)"
      ],
      "metadata": {
        "id": "yf9vXxhP-9q0"
      },
      "execution_count": null,
      "outputs": []
    },
    {
      "cell_type": "code",
      "source": [
        ""
      ],
      "metadata": {
        "colab": {
          "base_uri": "https://localhost:8080/"
        },
        "id": "5_e6H0Bu-_uy",
        "outputId": "68fc4371-6ec3-4162-a48e-7edb3abdf8e9"
      },
      "execution_count": null,
      "outputs": [
        {
          "output_type": "stream",
          "name": "stderr",
          "text": [
            "100%|██████████| 1146/1146 [20:05<00:00,  1.05s/it]\n"
          ]
        }
      ]
    },
    {
      "cell_type": "code",
      "source": [
        "img_mask=merge_images(image_mask_test[\"list_of_masks\"][0])\n",
        "#Show the image with matplotlib\n",
        "figs,axes=plt.subplots(1,2)\n",
        "axes[0].imshow(img_mask)\n",
        "\n",
        "# image_mask_test.mask_destination[1]\n",
        "\n",
        "img_mask=cv2.imread(image_mask_test[\"mask_destination\"][0])\n",
        "#Show the image with matplotlib\n",
        "axes[1].imshow(img_mask)"
      ],
      "metadata": {
        "colab": {
          "base_uri": "https://localhost:8080/",
          "height": 286
        },
        "id": "HALPjQl6FGDb",
        "outputId": "01b06aeb-a6ef-4299-e430-3914c452f123"
      },
      "execution_count": null,
      "outputs": [
        {
          "output_type": "execute_result",
          "data": {
            "text/plain": [
              "<matplotlib.image.AxesImage at 0x7f47e45693d0>"
            ]
          },
          "metadata": {},
          "execution_count": 12
        },
        {
          "output_type": "display_data",
          "data": {
            "text/plain": [
              "<Figure size 432x288 with 2 Axes>"
            ],
            "image/png": "[encoded data removed]"
          },
          "metadata": {
            "needs_background": "light"
          }
        }
      ]
    },
    {
      "cell_type": "code",
      "source": [
        ""
      ],
      "metadata": {
        "id": "rZO_bIZXMgXy"
      },
      "execution_count": null,
      "outputs": []
    }
  ]
}