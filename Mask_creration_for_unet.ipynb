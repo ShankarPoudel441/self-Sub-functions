{
  "nbformat": 4,
  "nbformat_minor": 0,
  "metadata": {
    "colab": {
      "name": "Mask_creration_for_unet.ipynb",
      "provenance": [],
      "include_colab_link": true
    },
    "kernelspec": {
      "name": "python3",
      "display_name": "Python 3"
    },
    "language_info": {
      "name": "python"
    },
    "accelerator": "GPU"
  },
  "cells": [
    {
      "cell_type": "markdown",
      "metadata": {
        "id": "view-in-github",
        "colab_type": "text"
      },
      "source": [
        "<a href=\"https://colab.research.google.com/github/ShankarPoudel441/self-Sub-functions/blob/main/Mask_creration_for_unet.ipynb\" target=\"_parent\"><img src=\"https://colab.research.google.com/assets/colab-badge.svg\" alt=\"Open In Colab\"/></a>"
      ]
    },
    {
      "cell_type": "code",
      "execution_count": 87,
      "metadata": {
        "id": "STBRlDjnE1Z3",
        "colab": {
          "base_uri": "https://localhost:8080/"
        },
        "outputId": "dd446391-59e6-478b-a448-f7c88d1f0fed"
      },
      "outputs": [
        {
          "output_type": "stream",
          "name": "stdout",
          "text": [
            "Requirement already satisfied: varname in /usr/local/lib/python3.7/dist-packages (0.8.3)\n",
            "Requirement already satisfied: pure_eval<1.0.0 in /usr/local/lib/python3.7/dist-packages (from varname) (0.2.2)\n",
            "Requirement already satisfied: asttokens<3.0.0,>=2.0.0 in /usr/local/lib/python3.7/dist-packages (from varname) (2.0.5)\n",
            "Requirement already satisfied: executing<0.9.0,>=0.8.3 in /usr/local/lib/python3.7/dist-packages (from varname) (0.8.3)\n",
            "Requirement already satisfied: six in /usr/local/lib/python3.7/dist-packages (from asttokens<3.0.0,>=2.0.0->varname) (1.15.0)\n"
          ]
        }
      ],
      "source": [
        "import matplotlib.pyplot as plt\n",
        "import numpy as np\n",
        "import os\n",
        "import tensorflow as tf\n",
        "import pandas as pd\n",
        "from tensorflow.keras import layers\n",
        "from PIL import Image\n",
        "from pathlib import Path\n",
        "import subprocess\n",
        "import shutil\n",
        "import datetime\n",
        "\n",
        "from typing import Tuple\n",
        "\n",
        "!pip3 install varname\n",
        "from varname import nameof\n",
        "\n",
        "# !pip3 install pickle\n",
        "import pickle\n",
        "import cv2\n",
        "\n",
        "\n",
        "from tqdm import tqdm\n",
        "tqdm.pandas()"
      ]
    },
    {
      "cell_type": "code",
      "source": [
        "from google.colab import drive\n",
        "drive.mount('/content/drive')"
      ],
      "metadata": {
        "colab": {
          "base_uri": "https://localhost:8080/"
        },
        "id": "jjUt7rkxFpRl",
        "outputId": "680d38ab-b728-47c4-b44a-d0fb69f564b9"
      },
      "execution_count": 90,
      "outputs": [
        {
          "output_type": "stream",
          "name": "stdout",
          "text": [
            "Drive already mounted at /content/drive; to attempt to forcibly remount, call drive.mount(\"/content/drive\", force_remount=True).\n"
          ]
        }
      ]
    },
    {
      "cell_type": "code",
      "source": [
        "print(\"Num GPUs Available: \", len(tf.config.list_physical_devices('GPU')))"
      ],
      "metadata": {
        "id": "u09oU-ZmE5h9",
        "colab": {
          "base_uri": "https://localhost:8080/"
        },
        "outputId": "e70bb4f8-63db-482d-8268-50bf63128e6d"
      },
      "execution_count": 91,
      "outputs": [
        {
          "output_type": "stream",
          "name": "stdout",
          "text": [
            "Num GPUs Available:  1\n"
          ]
        }
      ]
    },
    {
      "cell_type": "code",
      "source": [
        "\n",
        "# test_df_path='/content/drive/MyDrive/CBIS-DDSM/test_two_class_v2.csv'\n",
        "# train_df_path=\"/content/drive/MyDrive/CBIS-DDSM/train_two_class_v2.csv\""
      ],
      "metadata": {
        "id": "DPbfUE5MFIR7"
      },
      "execution_count": 92,
      "outputs": []
    },
    {
      "cell_type": "code",
      "source": [
        "\n",
        "# test_df=pd.read_csv(test_df_path)\n",
        "# test_df"
      ],
      "metadata": {
        "id": "T330jlz1FXUA"
      },
      "execution_count": 93,
      "outputs": []
    },
    {
      "cell_type": "code",
      "source": [
        "# image_mask = test_df.groupby(\"image_file\")[\"mask_path\"].apply(list).reset_index(name=\"list_of_masks\")"
      ],
      "metadata": {
        "id": "jxSnPq_uFZU6"
      },
      "execution_count": 94,
      "outputs": []
    },
    {
      "cell_type": "code",
      "source": [
        "# image_mask[\"no_of_masks\"] = image_mask[\"list_of_masks\"].apply(lambda x: len(x))\n",
        "# image_mask[image_mask[\"no_of_masks\"]>1]\n",
        "\n",
        "# # len(image_mask[\"list_of_masks\"][3])"
      ],
      "metadata": {
        "id": "QRUlJWxjGkOE"
      },
      "execution_count": 95,
      "outputs": []
    },
    {
      "cell_type": "code",
      "source": [
        "# to_save_test=\"/content/drive/MyDrive/CBIS-DDSM/Unet_mask/mass/test\"\n",
        "# to_save_train=\"/content/drive/MyDrive/CBIS-DDSM/Unet_mask/mass/train\"\n",
        "\n",
        "# mask0=image_mask[\"image_file\"][0].split(\"/\")[6]+\"full_cancer_nocancer_mask.png\"\n",
        "# to_save_test+\"/\"+mask0\n",
        "\n",
        "\n",
        "# image_mask[\"mask_destination\"]=image_mask[\"image_file\"].apply(lambda x: to_save_test+\"/\"+x.split(\"/\")[6]+\"full_cancer_nocancer_mask.png\")"
      ],
      "metadata": {
        "id": "y-ifVNQy_JxK"
      },
      "execution_count": 96,
      "outputs": []
    },
    {
      "cell_type": "code",
      "source": [
        "def merge_images(list_of_images):\n",
        "  if len(list_of_images) == 1:\n",
        "    return cv2.imread(list_of_images[0])\n",
        "  else:\n",
        "    img=cv2.imread(list_of_images[0])\n",
        "    for i in range(len(list_of_images) -1):\n",
        "      img=img+cv2.imread(list_of_images[i+1])\n",
        "    return img\n"
      ],
      "metadata": {
        "id": "KBIeTHDwz64T"
      },
      "execution_count": 97,
      "outputs": []
    },
    {
      "cell_type": "code",
      "source": [
        "to_save_path=\"/content/drive/MyDrive/CBIS-DDSM/Unet_mask/mass\"\n",
        "test_df_path='/content/drive/MyDrive/CBIS-DDSM/test_two_class_v2.csv'\n",
        "train_df_path=\"/content/drive/MyDrive/CBIS-DDSM/train_two_class_v2.csv\"\n",
        "\n",
        "def create_image_mask_csv(to_save_path, ip_csv_path, test_or_train):\n",
        "  df=pd.read_csv(ip_csv_path)\n",
        "\n",
        "\n",
        "  image_mask = df.groupby(\"image_file\")[\"mask_path\"].apply(list).reset_index(name=\"list_of_masks\")\n",
        "\n",
        "  image_mask[\"no_of_masks\"] = image_mask[\"list_of_masks\"].apply(lambda x: len(x))\n",
        "\n",
        "  image_mask[\"mask_destination\"]=image_mask[\"image_file\"].apply(lambda x: to_save_path+\"/\"+test_or_train+\"/\"+x.split(\"/\")[6]+\"_full_binary_mask.png\")\n",
        "\n",
        "\n",
        "\n",
        "\n",
        "  image_mask.to_csv(to_save_path+\"/\"+\"Image_mask_\"+str(test_or_train)+\".csv\")\n",
        "  \n",
        "  return image_mask\n",
        "\n"
      ],
      "metadata": {
        "id": "HCWMdLAlJzgP"
      },
      "execution_count": 98,
      "outputs": []
    },
    {
      "cell_type": "code",
      "source": [
        "image_mask_test=create_image_mask_csv(to_save_path,test_df_path,\"test\")\n",
        "image_mask_test\n",
        "\n"
      ],
      "metadata": {
        "id": "y4DVsh1nJqbP",
        "colab": {
          "base_uri": "https://localhost:8080/",
          "height": 424
        },
        "outputId": "4e2c8d6b-581b-4be3-e6eb-e723384eff76"
      },
      "execution_count": 99,
      "outputs": [
        {
          "output_type": "execute_result",
          "data": {
            "text/plain": [
              "                                            image_file  \\\n",
              "0    /content/drive/MyDrive/CBIS-DDSM/CBIS-DDSM/Mas...   \n",
              "1    /content/drive/MyDrive/CBIS-DDSM/CBIS-DDSM/Mas...   \n",
              "2    /content/drive/MyDrive/CBIS-DDSM/CBIS-DDSM/Mas...   \n",
              "3    /content/drive/MyDrive/CBIS-DDSM/CBIS-DDSM/Mas...   \n",
              "4    /content/drive/MyDrive/CBIS-DDSM/CBIS-DDSM/Mas...   \n",
              "..                                                 ...   \n",
              "322  /content/drive/MyDrive/CBIS-DDSM/CBIS-DDSM/Mas...   \n",
              "323  /content/drive/MyDrive/CBIS-DDSM/CBIS-DDSM/Mas...   \n",
              "324  /content/drive/MyDrive/CBIS-DDSM/CBIS-DDSM/Mas...   \n",
              "325  /content/drive/MyDrive/CBIS-DDSM/CBIS-DDSM/Mas...   \n",
              "326  /content/drive/MyDrive/CBIS-DDSM/CBIS-DDSM/Mas...   \n",
              "\n",
              "                                         list_of_masks  no_of_masks  \\\n",
              "0    [/content/drive/MyDrive/CBIS-DDSM/CBIS-DDSM/Ma...            1   \n",
              "1    [/content/drive/MyDrive/CBIS-DDSM/CBIS-DDSM/Ma...            1   \n",
              "2    [/content/drive/MyDrive/CBIS-DDSM/CBIS-DDSM/Ma...            1   \n",
              "3    [/content/drive/MyDrive/CBIS-DDSM/CBIS-DDSM/Ma...            1   \n",
              "4    [/content/drive/MyDrive/CBIS-DDSM/CBIS-DDSM/Ma...            1   \n",
              "..                                                 ...          ...   \n",
              "322  [/content/drive/MyDrive/CBIS-DDSM/CBIS-DDSM/Ma...            1   \n",
              "323  [/content/drive/MyDrive/CBIS-DDSM/CBIS-DDSM/Ma...            1   \n",
              "324  [/content/drive/MyDrive/CBIS-DDSM/CBIS-DDSM/Ma...            1   \n",
              "325  [/content/drive/MyDrive/CBIS-DDSM/CBIS-DDSM/Ma...            1   \n",
              "326  [/content/drive/MyDrive/CBIS-DDSM/CBIS-DDSM/Ma...            1   \n",
              "\n",
              "                                      mask_destination  \n",
              "0    /content/drive/MyDrive/CBIS-DDSM/Unet_mask/mas...  \n",
              "1    /content/drive/MyDrive/CBIS-DDSM/Unet_mask/mas...  \n",
              "2    /content/drive/MyDrive/CBIS-DDSM/Unet_mask/mas...  \n",
              "3    /content/drive/MyDrive/CBIS-DDSM/Unet_mask/mas...  \n",
              "4    /content/drive/MyDrive/CBIS-DDSM/Unet_mask/mas...  \n",
              "..                                                 ...  \n",
              "322  /content/drive/MyDrive/CBIS-DDSM/Unet_mask/mas...  \n",
              "323  /content/drive/MyDrive/CBIS-DDSM/Unet_mask/mas...  \n",
              "324  /content/drive/MyDrive/CBIS-DDSM/Unet_mask/mas...  \n",
              "325  /content/drive/MyDrive/CBIS-DDSM/Unet_mask/mas...  \n",
              "326  /content/drive/MyDrive/CBIS-DDSM/Unet_mask/mas...  \n",
              "\n",
              "[327 rows x 4 columns]"
            ],
            "text/html": [
              "\n",
              "  <div id=\"df-bda8c54b-f062-4b74-bb25-81a0f6bc2aec\">\n",
              "    <div class=\"colab-df-container\">\n",
              "      <div>\n",
              "<style scoped>\n",
              "    .dataframe tbody tr th:only-of-type {\n",
              "        vertical-align: middle;\n",
              "    }\n",
              "\n",
              "    .dataframe tbody tr th {\n",
              "        vertical-align: top;\n",
              "    }\n",
              "\n",
              "    .dataframe thead th {\n",
              "        text-align: right;\n",
              "    }\n",
              "</style>\n",
              "<table border=\"1\" class=\"dataframe\">\n",
              "  <thead>\n",
              "    <tr style=\"text-align: right;\">\n",
              "      <th></th>\n",
              "      <th>image_file</th>\n",
              "      <th>list_of_masks</th>\n",
              "      <th>no_of_masks</th>\n",
              "      <th>mask_destination</th>\n",
              "    </tr>\n",
              "  </thead>\n",
              "  <tbody>\n",
              "    <tr>\n",
              "      <th>0</th>\n",
              "      <td>/content/drive/MyDrive/CBIS-DDSM/CBIS-DDSM/Mas...</td>\n",
              "      <td>[/content/drive/MyDrive/CBIS-DDSM/CBIS-DDSM/Ma...</td>\n",
              "      <td>1</td>\n",
              "      <td>/content/drive/MyDrive/CBIS-DDSM/Unet_mask/mas...</td>\n",
              "    </tr>\n",
              "    <tr>\n",
              "      <th>1</th>\n",
              "      <td>/content/drive/MyDrive/CBIS-DDSM/CBIS-DDSM/Mas...</td>\n",
              "      <td>[/content/drive/MyDrive/CBIS-DDSM/CBIS-DDSM/Ma...</td>\n",
              "      <td>1</td>\n",
              "      <td>/content/drive/MyDrive/CBIS-DDSM/Unet_mask/mas...</td>\n",
              "    </tr>\n",
              "    <tr>\n",
              "      <th>2</th>\n",
              "      <td>/content/drive/MyDrive/CBIS-DDSM/CBIS-DDSM/Mas...</td>\n",
              "      <td>[/content/drive/MyDrive/CBIS-DDSM/CBIS-DDSM/Ma...</td>\n",
              "      <td>1</td>\n",
              "      <td>/content/drive/MyDrive/CBIS-DDSM/Unet_mask/mas...</td>\n",
              "    </tr>\n",
              "    <tr>\n",
              "      <th>3</th>\n",
              "      <td>/content/drive/MyDrive/CBIS-DDSM/CBIS-DDSM/Mas...</td>\n",
              "      <td>[/content/drive/MyDrive/CBIS-DDSM/CBIS-DDSM/Ma...</td>\n",
              "      <td>1</td>\n",
              "      <td>/content/drive/MyDrive/CBIS-DDSM/Unet_mask/mas...</td>\n",
              "    </tr>\n",
              "    <tr>\n",
              "      <th>4</th>\n",
              "      <td>/content/drive/MyDrive/CBIS-DDSM/CBIS-DDSM/Mas...</td>\n",
              "      <td>[/content/drive/MyDrive/CBIS-DDSM/CBIS-DDSM/Ma...</td>\n",
              "      <td>1</td>\n",
              "      <td>/content/drive/MyDrive/CBIS-DDSM/Unet_mask/mas...</td>\n",
              "    </tr>\n",
              "    <tr>\n",
              "      <th>...</th>\n",
              "      <td>...</td>\n",
              "      <td>...</td>\n",
              "      <td>...</td>\n",
              "      <td>...</td>\n",
              "    </tr>\n",
              "    <tr>\n",
              "      <th>322</th>\n",
              "      <td>/content/drive/MyDrive/CBIS-DDSM/CBIS-DDSM/Mas...</td>\n",
              "      <td>[/content/drive/MyDrive/CBIS-DDSM/CBIS-DDSM/Ma...</td>\n",
              "      <td>1</td>\n",
              "      <td>/content/drive/MyDrive/CBIS-DDSM/Unet_mask/mas...</td>\n",
              "    </tr>\n",
              "    <tr>\n",
              "      <th>323</th>\n",
              "      <td>/content/drive/MyDrive/CBIS-DDSM/CBIS-DDSM/Mas...</td>\n",
              "      <td>[/content/drive/MyDrive/CBIS-DDSM/CBIS-DDSM/Ma...</td>\n",
              "      <td>1</td>\n",
              "      <td>/content/drive/MyDrive/CBIS-DDSM/Unet_mask/mas...</td>\n",
              "    </tr>\n",
              "    <tr>\n",
              "      <th>324</th>\n",
              "      <td>/content/drive/MyDrive/CBIS-DDSM/CBIS-DDSM/Mas...</td>\n",
              "      <td>[/content/drive/MyDrive/CBIS-DDSM/CBIS-DDSM/Ma...</td>\n",
              "      <td>1</td>\n",
              "      <td>/content/drive/MyDrive/CBIS-DDSM/Unet_mask/mas...</td>\n",
              "    </tr>\n",
              "    <tr>\n",
              "      <th>325</th>\n",
              "      <td>/content/drive/MyDrive/CBIS-DDSM/CBIS-DDSM/Mas...</td>\n",
              "      <td>[/content/drive/MyDrive/CBIS-DDSM/CBIS-DDSM/Ma...</td>\n",
              "      <td>1</td>\n",
              "      <td>/content/drive/MyDrive/CBIS-DDSM/Unet_mask/mas...</td>\n",
              "    </tr>\n",
              "    <tr>\n",
              "      <th>326</th>\n",
              "      <td>/content/drive/MyDrive/CBIS-DDSM/CBIS-DDSM/Mas...</td>\n",
              "      <td>[/content/drive/MyDrive/CBIS-DDSM/CBIS-DDSM/Ma...</td>\n",
              "      <td>1</td>\n",
              "      <td>/content/drive/MyDrive/CBIS-DDSM/Unet_mask/mas...</td>\n",
              "    </tr>\n",
              "  </tbody>\n",
              "</table>\n",
              "<p>327 rows × 4 columns</p>\n",
              "</div>\n",
              "      <button class=\"colab-df-convert\" onclick=\"convertToInteractive('df-bda8c54b-f062-4b74-bb25-81a0f6bc2aec')\"\n",
              "              title=\"Convert this dataframe to an interactive table.\"\n",
              "              style=\"display:none;\">\n",
              "        \n",
              "  <svg xmlns=\"http://www.w3.org/2000/svg\" height=\"24px\"viewBox=\"0 0 24 24\"\n",
              "       width=\"24px\">\n",
              "    <path d=\"M0 0h24v24H0V0z\" fill=\"none\"/>\n",
              "    <path d=\"M18.56 5.44l.94 2.06.94-2.06 2.06-.94-2.06-.94-.94-2.06-.94 2.06-2.06.94zm-11 1L8.5 8.5l.94-2.06 2.06-.94-2.06-.94L8.5 2.5l-.94 2.06-2.06.94zm10 10l.94 2.06.94-2.06 2.06-.94-2.06-.94-.94-2.06-.94 2.06-2.06.94z\"/><path d=\"M17.41 7.96l-1.37-1.37c-.4-.4-.92-.59-1.43-.59-.52 0-1.04.2-1.43.59L10.3 9.45l-7.72 7.72c-.78.78-.78 2.05 0 2.83L4 21.41c.39.39.9.59 1.41.59.51 0 1.02-.2 1.41-.59l7.78-7.78 2.81-2.81c.8-.78.8-2.07 0-2.86zM5.41 20L4 18.59l7.72-7.72 1.47 1.35L5.41 20z\"/>\n",
              "  </svg>\n",
              "      </button>\n",
              "      \n",
              "  <style>\n",
              "    .colab-df-container {\n",
              "      display:flex;\n",
              "      flex-wrap:wrap;\n",
              "      gap: 12px;\n",
              "    }\n",
              "\n",
              "    .colab-df-convert {\n",
              "      background-color: #E8F0FE;\n",
              "      border: none;\n",
              "      border-radius: 50%;\n",
              "      cursor: pointer;\n",
              "      display: none;\n",
              "      fill: #1967D2;\n",
              "      height: 32px;\n",
              "      padding: 0 0 0 0;\n",
              "      width: 32px;\n",
              "    }\n",
              "\n",
              "    .colab-df-convert:hover {\n",
              "      background-color: #E2EBFA;\n",
              "      box-shadow: 0px 1px 2px rgba(60, 64, 67, 0.3), 0px 1px 3px 1px rgba(60, 64, 67, 0.15);\n",
              "      fill: #174EA6;\n",
              "    }\n",
              "\n",
              "    [theme=dark] .colab-df-convert {\n",
              "      background-color: #3B4455;\n",
              "      fill: #D2E3FC;\n",
              "    }\n",
              "\n",
              "    [theme=dark] .colab-df-convert:hover {\n",
              "      background-color: #434B5C;\n",
              "      box-shadow: 0px 1px 3px 1px rgba(0, 0, 0, 0.15);\n",
              "      filter: drop-shadow(0px 1px 2px rgba(0, 0, 0, 0.3));\n",
              "      fill: #FFFFFF;\n",
              "    }\n",
              "  </style>\n",
              "\n",
              "      <script>\n",
              "        const buttonEl =\n",
              "          document.querySelector('#df-bda8c54b-f062-4b74-bb25-81a0f6bc2aec button.colab-df-convert');\n",
              "        buttonEl.style.display =\n",
              "          google.colab.kernel.accessAllowed ? 'block' : 'none';\n",
              "\n",
              "        async function convertToInteractive(key) {\n",
              "          const element = document.querySelector('#df-bda8c54b-f062-4b74-bb25-81a0f6bc2aec');\n",
              "          const dataTable =\n",
              "            await google.colab.kernel.invokeFunction('convertToInteractive',\n",
              "                                                     [key], {});\n",
              "          if (!dataTable) return;\n",
              "\n",
              "          const docLinkHtml = 'Like what you see? Visit the ' +\n",
              "            '<a target=\"_blank\" href=https://colab.research.google.com/notebooks/data_table.ipynb>data table notebook</a>'\n",
              "            + ' to learn more about interactive tables.';\n",
              "          element.innerHTML = '';\n",
              "          dataTable['output_type'] = 'display_data';\n",
              "          await google.colab.output.renderOutput(dataTable, element);\n",
              "          const docLink = document.createElement('div');\n",
              "          docLink.innerHTML = docLinkHtml;\n",
              "          element.appendChild(docLink);\n",
              "        }\n",
              "      </script>\n",
              "    </div>\n",
              "  </div>\n",
              "  "
            ]
          },
          "metadata": {},
          "execution_count": 99
        }
      ]
    },
    {
      "cell_type": "code",
      "source": [
        "image_mask_train=create_image_mask_csv(to_save_path,train_df_path,\"train\")\n",
        "image_mask_train"
      ],
      "metadata": {
        "colab": {
          "base_uri": "https://localhost:8080/",
          "height": 424
        },
        "id": "P89DeCqWaI49",
        "outputId": "4610b464-b42e-45e5-e023-52585cdde999"
      },
      "execution_count": 100,
      "outputs": [
        {
          "output_type": "execute_result",
          "data": {
            "text/plain": [
              "                                             image_file  \\\n",
              "0     /content/drive/MyDrive/CBIS-DDSM/CBIS-DDSM/Mas...   \n",
              "1     /content/drive/MyDrive/CBIS-DDSM/CBIS-DDSM/Mas...   \n",
              "2     /content/drive/MyDrive/CBIS-DDSM/CBIS-DDSM/Mas...   \n",
              "3     /content/drive/MyDrive/CBIS-DDSM/CBIS-DDSM/Mas...   \n",
              "4     /content/drive/MyDrive/CBIS-DDSM/CBIS-DDSM/Mas...   \n",
              "...                                                 ...   \n",
              "1141  /content/drive/MyDrive/CBIS-DDSM/CBIS-DDSM/Mas...   \n",
              "1142  /content/drive/MyDrive/CBIS-DDSM/CBIS-DDSM/Mas...   \n",
              "1143  /content/drive/MyDrive/CBIS-DDSM/CBIS-DDSM/Mas...   \n",
              "1144  /content/drive/MyDrive/CBIS-DDSM/CBIS-DDSM/Mas...   \n",
              "1145  /content/drive/MyDrive/CBIS-DDSM/CBIS-DDSM/Mas...   \n",
              "\n",
              "                                          list_of_masks  no_of_masks  \\\n",
              "0     [/content/drive/MyDrive/CBIS-DDSM/CBIS-DDSM/Ma...            1   \n",
              "1     [/content/drive/MyDrive/CBIS-DDSM/CBIS-DDSM/Ma...            1   \n",
              "2     [/content/drive/MyDrive/CBIS-DDSM/CBIS-DDSM/Ma...            1   \n",
              "3     [/content/drive/MyDrive/CBIS-DDSM/CBIS-DDSM/Ma...            1   \n",
              "4     [/content/drive/MyDrive/CBIS-DDSM/CBIS-DDSM/Ma...            1   \n",
              "...                                                 ...          ...   \n",
              "1141  [/content/drive/MyDrive/CBIS-DDSM/CBIS-DDSM/Ma...            1   \n",
              "1142  [/content/drive/MyDrive/CBIS-DDSM/CBIS-DDSM/Ma...            1   \n",
              "1143  [/content/drive/MyDrive/CBIS-DDSM/CBIS-DDSM/Ma...            1   \n",
              "1144  [/content/drive/MyDrive/CBIS-DDSM/CBIS-DDSM/Ma...            1   \n",
              "1145  [/content/drive/MyDrive/CBIS-DDSM/CBIS-DDSM/Ma...            1   \n",
              "\n",
              "                                       mask_destination  \n",
              "0     /content/drive/MyDrive/CBIS-DDSM/Unet_mask/mas...  \n",
              "1     /content/drive/MyDrive/CBIS-DDSM/Unet_mask/mas...  \n",
              "2     /content/drive/MyDrive/CBIS-DDSM/Unet_mask/mas...  \n",
              "3     /content/drive/MyDrive/CBIS-DDSM/Unet_mask/mas...  \n",
              "4     /content/drive/MyDrive/CBIS-DDSM/Unet_mask/mas...  \n",
              "...                                                 ...  \n",
              "1141  /content/drive/MyDrive/CBIS-DDSM/Unet_mask/mas...  \n",
              "1142  /content/drive/MyDrive/CBIS-DDSM/Unet_mask/mas...  \n",
              "1143  /content/drive/MyDrive/CBIS-DDSM/Unet_mask/mas...  \n",
              "1144  /content/drive/MyDrive/CBIS-DDSM/Unet_mask/mas...  \n",
              "1145  /content/drive/MyDrive/CBIS-DDSM/Unet_mask/mas...  \n",
              "\n",
              "[1146 rows x 4 columns]"
            ],
            "text/html": [
              "\n",
              "  <div id=\"df-203ae5ec-fa40-47fd-abb4-5ba42dfc460e\">\n",
              "    <div class=\"colab-df-container\">\n",
              "      <div>\n",
              "<style scoped>\n",
              "    .dataframe tbody tr th:only-of-type {\n",
              "        vertical-align: middle;\n",
              "    }\n",
              "\n",
              "    .dataframe tbody tr th {\n",
              "        vertical-align: top;\n",
              "    }\n",
              "\n",
              "    .dataframe thead th {\n",
              "        text-align: right;\n",
              "    }\n",
              "</style>\n",
              "<table border=\"1\" class=\"dataframe\">\n",
              "  <thead>\n",
              "    <tr style=\"text-align: right;\">\n",
              "      <th></th>\n",
              "      <th>image_file</th>\n",
              "      <th>list_of_masks</th>\n",
              "      <th>no_of_masks</th>\n",
              "      <th>mask_destination</th>\n",
              "    </tr>\n",
              "  </thead>\n",
              "  <tbody>\n",
              "    <tr>\n",
              "      <th>0</th>\n",
              "      <td>/content/drive/MyDrive/CBIS-DDSM/CBIS-DDSM/Mas...</td>\n",
              "      <td>[/content/drive/MyDrive/CBIS-DDSM/CBIS-DDSM/Ma...</td>\n",
              "      <td>1</td>\n",
              "      <td>/content/drive/MyDrive/CBIS-DDSM/Unet_mask/mas...</td>\n",
              "    </tr>\n",
              "    <tr>\n",
              "      <th>1</th>\n",
              "      <td>/content/drive/MyDrive/CBIS-DDSM/CBIS-DDSM/Mas...</td>\n",
              "      <td>[/content/drive/MyDrive/CBIS-DDSM/CBIS-DDSM/Ma...</td>\n",
              "      <td>1</td>\n",
              "      <td>/content/drive/MyDrive/CBIS-DDSM/Unet_mask/mas...</td>\n",
              "    </tr>\n",
              "    <tr>\n",
              "      <th>2</th>\n",
              "      <td>/content/drive/MyDrive/CBIS-DDSM/CBIS-DDSM/Mas...</td>\n",
              "      <td>[/content/drive/MyDrive/CBIS-DDSM/CBIS-DDSM/Ma...</td>\n",
              "      <td>1</td>\n",
              "      <td>/content/drive/MyDrive/CBIS-DDSM/Unet_mask/mas...</td>\n",
              "    </tr>\n",
              "    <tr>\n",
              "      <th>3</th>\n",
              "      <td>/content/drive/MyDrive/CBIS-DDSM/CBIS-DDSM/Mas...</td>\n",
              "      <td>[/content/drive/MyDrive/CBIS-DDSM/CBIS-DDSM/Ma...</td>\n",
              "      <td>1</td>\n",
              "      <td>/content/drive/MyDrive/CBIS-DDSM/Unet_mask/mas...</td>\n",
              "    </tr>\n",
              "    <tr>\n",
              "      <th>4</th>\n",
              "      <td>/content/drive/MyDrive/CBIS-DDSM/CBIS-DDSM/Mas...</td>\n",
              "      <td>[/content/drive/MyDrive/CBIS-DDSM/CBIS-DDSM/Ma...</td>\n",
              "      <td>1</td>\n",
              "      <td>/content/drive/MyDrive/CBIS-DDSM/Unet_mask/mas...</td>\n",
              "    </tr>\n",
              "    <tr>\n",
              "      <th>...</th>\n",
              "      <td>...</td>\n",
              "      <td>...</td>\n",
              "      <td>...</td>\n",
              "      <td>...</td>\n",
              "    </tr>\n",
              "    <tr>\n",
              "      <th>1141</th>\n",
              "      <td>/content/drive/MyDrive/CBIS-DDSM/CBIS-DDSM/Mas...</td>\n",
              "      <td>[/content/drive/MyDrive/CBIS-DDSM/CBIS-DDSM/Ma...</td>\n",
              "      <td>1</td>\n",
              "      <td>/content/drive/MyDrive/CBIS-DDSM/Unet_mask/mas...</td>\n",
              "    </tr>\n",
              "    <tr>\n",
              "      <th>1142</th>\n",
              "      <td>/content/drive/MyDrive/CBIS-DDSM/CBIS-DDSM/Mas...</td>\n",
              "      <td>[/content/drive/MyDrive/CBIS-DDSM/CBIS-DDSM/Ma...</td>\n",
              "      <td>1</td>\n",
              "      <td>/content/drive/MyDrive/CBIS-DDSM/Unet_mask/mas...</td>\n",
              "    </tr>\n",
              "    <tr>\n",
              "      <th>1143</th>\n",
              "      <td>/content/drive/MyDrive/CBIS-DDSM/CBIS-DDSM/Mas...</td>\n",
              "      <td>[/content/drive/MyDrive/CBIS-DDSM/CBIS-DDSM/Ma...</td>\n",
              "      <td>1</td>\n",
              "      <td>/content/drive/MyDrive/CBIS-DDSM/Unet_mask/mas...</td>\n",
              "    </tr>\n",
              "    <tr>\n",
              "      <th>1144</th>\n",
              "      <td>/content/drive/MyDrive/CBIS-DDSM/CBIS-DDSM/Mas...</td>\n",
              "      <td>[/content/drive/MyDrive/CBIS-DDSM/CBIS-DDSM/Ma...</td>\n",
              "      <td>1</td>\n",
              "      <td>/content/drive/MyDrive/CBIS-DDSM/Unet_mask/mas...</td>\n",
              "    </tr>\n",
              "    <tr>\n",
              "      <th>1145</th>\n",
              "      <td>/content/drive/MyDrive/CBIS-DDSM/CBIS-DDSM/Mas...</td>\n",
              "      <td>[/content/drive/MyDrive/CBIS-DDSM/CBIS-DDSM/Ma...</td>\n",
              "      <td>1</td>\n",
              "      <td>/content/drive/MyDrive/CBIS-DDSM/Unet_mask/mas...</td>\n",
              "    </tr>\n",
              "  </tbody>\n",
              "</table>\n",
              "<p>1146 rows × 4 columns</p>\n",
              "</div>\n",
              "      <button class=\"colab-df-convert\" onclick=\"convertToInteractive('df-203ae5ec-fa40-47fd-abb4-5ba42dfc460e')\"\n",
              "              title=\"Convert this dataframe to an interactive table.\"\n",
              "              style=\"display:none;\">\n",
              "        \n",
              "  <svg xmlns=\"http://www.w3.org/2000/svg\" height=\"24px\"viewBox=\"0 0 24 24\"\n",
              "       width=\"24px\">\n",
              "    <path d=\"M0 0h24v24H0V0z\" fill=\"none\"/>\n",
              "    <path d=\"M18.56 5.44l.94 2.06.94-2.06 2.06-.94-2.06-.94-.94-2.06-.94 2.06-2.06.94zm-11 1L8.5 8.5l.94-2.06 2.06-.94-2.06-.94L8.5 2.5l-.94 2.06-2.06.94zm10 10l.94 2.06.94-2.06 2.06-.94-2.06-.94-.94-2.06-.94 2.06-2.06.94z\"/><path d=\"M17.41 7.96l-1.37-1.37c-.4-.4-.92-.59-1.43-.59-.52 0-1.04.2-1.43.59L10.3 9.45l-7.72 7.72c-.78.78-.78 2.05 0 2.83L4 21.41c.39.39.9.59 1.41.59.51 0 1.02-.2 1.41-.59l7.78-7.78 2.81-2.81c.8-.78.8-2.07 0-2.86zM5.41 20L4 18.59l7.72-7.72 1.47 1.35L5.41 20z\"/>\n",
              "  </svg>\n",
              "      </button>\n",
              "      \n",
              "  <style>\n",
              "    .colab-df-container {\n",
              "      display:flex;\n",
              "      flex-wrap:wrap;\n",
              "      gap: 12px;\n",
              "    }\n",
              "\n",
              "    .colab-df-convert {\n",
              "      background-color: #E8F0FE;\n",
              "      border: none;\n",
              "      border-radius: 50%;\n",
              "      cursor: pointer;\n",
              "      display: none;\n",
              "      fill: #1967D2;\n",
              "      height: 32px;\n",
              "      padding: 0 0 0 0;\n",
              "      width: 32px;\n",
              "    }\n",
              "\n",
              "    .colab-df-convert:hover {\n",
              "      background-color: #E2EBFA;\n",
              "      box-shadow: 0px 1px 2px rgba(60, 64, 67, 0.3), 0px 1px 3px 1px rgba(60, 64, 67, 0.15);\n",
              "      fill: #174EA6;\n",
              "    }\n",
              "\n",
              "    [theme=dark] .colab-df-convert {\n",
              "      background-color: #3B4455;\n",
              "      fill: #D2E3FC;\n",
              "    }\n",
              "\n",
              "    [theme=dark] .colab-df-convert:hover {\n",
              "      background-color: #434B5C;\n",
              "      box-shadow: 0px 1px 3px 1px rgba(0, 0, 0, 0.15);\n",
              "      filter: drop-shadow(0px 1px 2px rgba(0, 0, 0, 0.3));\n",
              "      fill: #FFFFFF;\n",
              "    }\n",
              "  </style>\n",
              "\n",
              "      <script>\n",
              "        const buttonEl =\n",
              "          document.querySelector('#df-203ae5ec-fa40-47fd-abb4-5ba42dfc460e button.colab-df-convert');\n",
              "        buttonEl.style.display =\n",
              "          google.colab.kernel.accessAllowed ? 'block' : 'none';\n",
              "\n",
              "        async function convertToInteractive(key) {\n",
              "          const element = document.querySelector('#df-203ae5ec-fa40-47fd-abb4-5ba42dfc460e');\n",
              "          const dataTable =\n",
              "            await google.colab.kernel.invokeFunction('convertToInteractive',\n",
              "                                                     [key], {});\n",
              "          if (!dataTable) return;\n",
              "\n",
              "          const docLinkHtml = 'Like what you see? Visit the ' +\n",
              "            '<a target=\"_blank\" href=https://colab.research.google.com/notebooks/data_table.ipynb>data table notebook</a>'\n",
              "            + ' to learn more about interactive tables.';\n",
              "          element.innerHTML = '';\n",
              "          dataTable['output_type'] = 'display_data';\n",
              "          await google.colab.output.renderOutput(dataTable, element);\n",
              "          const docLink = document.createElement('div');\n",
              "          docLink.innerHTML = docLinkHtml;\n",
              "          element.appendChild(docLink);\n",
              "        }\n",
              "      </script>\n",
              "    </div>\n",
              "  </div>\n",
              "  "
            ]
          },
          "metadata": {},
          "execution_count": 100
        }
      ]
    },
    {
      "cell_type": "code",
      "source": [
        "image_mask_test.mask_destination[0],image_mask_test.mask_destination[1],image_mask_test.list_of_masks[0],image_mask_test.list_of_masks[1]"
      ],
      "metadata": {
        "colab": {
          "base_uri": "https://localhost:8080/"
        },
        "id": "FnNTKdc41Rby",
        "outputId": "21dad988-735f-4259-8821-507cb179c49b"
      },
      "execution_count": 101,
      "outputs": [
        {
          "output_type": "execute_result",
          "data": {
            "text/plain": [
              "('/content/drive/MyDrive/CBIS-DDSM/Unet_mask/mass/test/Mass-Test_P_00016_LEFT_CC_full_binary_mask.png',\n",
              " '/content/drive/MyDrive/CBIS-DDSM/Unet_mask/mass/test/Mass-Test_P_00016_LEFT_MLO_full_binary_mask.png',\n",
              " ['/content/drive/MyDrive/CBIS-DDSM/CBIS-DDSM/Mass-Test_P_00016_LEFT_CC_1/10-04-2016-DDSM-NA-09887/1.000000-cropped images-26184/1-1.jpg'],\n",
              " ['/content/drive/MyDrive/CBIS-DDSM/CBIS-DDSM/Mass-Test_P_00016_LEFT_MLO_1/10-04-2016-DDSM-NA-15563/1.000000-cropped images-77287/1-1.jpg'])"
            ]
          },
          "metadata": {},
          "execution_count": 101
        }
      ]
    },
    {
      "cell_type": "code",
      "source": [
        "def merge_images(list_of_images):\n",
        "  if len(list_of_images) == 1:\n",
        "    return cv2.imread(list_of_images[0])\n",
        "  else:\n",
        "    img=cv2.imread(list_of_images[0])\n",
        "    for i in range(len(list_of_images) -1):\n",
        "      img=img+cv2.imread(list_of_images[i+1])\n",
        "    return img\n",
        "\n"
      ],
      "metadata": {
        "id": "zOGwszWZO0KY"
      },
      "execution_count": 102,
      "outputs": []
    },
    {
      "cell_type": "code",
      "source": [
        "image_mask_train.mask_destination[1],image_mask_train.mask_destination[0]"
      ],
      "metadata": {
        "colab": {
          "base_uri": "https://localhost:8080/"
        },
        "id": "FeMQFwbiNXhL",
        "outputId": "85067ef6-17b0-4bd7-d142-9c0dbd58062f"
      },
      "execution_count": 107,
      "outputs": [
        {
          "output_type": "execute_result",
          "data": {
            "text/plain": [
              "('/content/drive/MyDrive/CBIS-DDSM/Unet_mask/mass/train/Mass-Training_P_00001_LEFT_MLO_full_binary_mask.png',\n",
              " '/content/drive/MyDrive/CBIS-DDSM/Unet_mask/mass/train/Mass-Training_P_00001_LEFT_CC_full_binary_mask.png')"
            ]
          },
          "metadata": {},
          "execution_count": 107
        }
      ]
    },
    {
      "cell_type": "code",
      "source": [
        "img_mask=merge_images(image_mask_test[\"list_of_masks\"][1])\n",
        "#Show the image with matplotlib\n",
        "figs,axes=plt.subplots(1,2)\n",
        "axes[0].imshow(img_mask)\n",
        "\n",
        "# image_mask_test.mask_destination[1]\n",
        "\n",
        "img_mask=cv2.imread(image_mask_test[\"mask_destination\"][0])\n",
        "#Show the image with matplotlib\n",
        "axes[1].imshow(img_mask)"
      ],
      "metadata": {
        "id": "3rX26Lv3O0Q3",
        "colab": {
          "base_uri": "https://localhost:8080/",
          "height": 600
        },
        "outputId": "43f14240-e65b-476a-f9b4-c5aaac6f7a9d"
      },
      "execution_count": 110,
      "outputs": [
        {
          "output_type": "error",
          "ename": "TypeError",
          "evalue": "ignored",
          "traceback": [
            "\u001b[0;31m---------------------------------------------------------------------------\u001b[0m",
            "\u001b[0;31mTypeError\u001b[0m                                 Traceback (most recent call last)",
            "\u001b[0;32m<ipython-input-110-9191ca4fd1db>\u001b[0m in \u001b[0;36m<module>\u001b[0;34m()\u001b[0m\n\u001b[1;32m      8\u001b[0m \u001b[0mimg_mask\u001b[0m\u001b[0;34m=\u001b[0m\u001b[0mcv2\u001b[0m\u001b[0;34m.\u001b[0m\u001b[0mimread\u001b[0m\u001b[0;34m(\u001b[0m\u001b[0mimage_mask_test\u001b[0m\u001b[0;34m[\u001b[0m\u001b[0;34m\"mask_destination\"\u001b[0m\u001b[0;34m]\u001b[0m\u001b[0;34m[\u001b[0m\u001b[0;36m0\u001b[0m\u001b[0;34m]\u001b[0m\u001b[0;34m)\u001b[0m\u001b[0;34m\u001b[0m\u001b[0;34m\u001b[0m\u001b[0m\n\u001b[1;32m      9\u001b[0m \u001b[0;31m#Show the image with matplotlib\u001b[0m\u001b[0;34m\u001b[0m\u001b[0;34m\u001b[0m\u001b[0;34m\u001b[0m\u001b[0m\n\u001b[0;32m---> 10\u001b[0;31m \u001b[0maxes\u001b[0m\u001b[0;34m[\u001b[0m\u001b[0;36m1\u001b[0m\u001b[0;34m]\u001b[0m\u001b[0;34m.\u001b[0m\u001b[0mimshow\u001b[0m\u001b[0;34m(\u001b[0m\u001b[0mimg_mask\u001b[0m\u001b[0;34m)\u001b[0m\u001b[0;34m\u001b[0m\u001b[0;34m\u001b[0m\u001b[0m\n\u001b[0m",
            "\u001b[0;32m/usr/local/lib/python3.7/dist-packages/matplotlib/__init__.py\u001b[0m in \u001b[0;36minner\u001b[0;34m(ax, data, *args, **kwargs)\u001b[0m\n\u001b[1;32m   1563\u001b[0m     \u001b[0;32mdef\u001b[0m \u001b[0minner\u001b[0m\u001b[0;34m(\u001b[0m\u001b[0max\u001b[0m\u001b[0;34m,\u001b[0m \u001b[0;34m*\u001b[0m\u001b[0margs\u001b[0m\u001b[0;34m,\u001b[0m \u001b[0mdata\u001b[0m\u001b[0;34m=\u001b[0m\u001b[0;32mNone\u001b[0m\u001b[0;34m,\u001b[0m \u001b[0;34m**\u001b[0m\u001b[0mkwargs\u001b[0m\u001b[0;34m)\u001b[0m\u001b[0;34m:\u001b[0m\u001b[0;34m\u001b[0m\u001b[0;34m\u001b[0m\u001b[0m\n\u001b[1;32m   1564\u001b[0m         \u001b[0;32mif\u001b[0m \u001b[0mdata\u001b[0m \u001b[0;32mis\u001b[0m \u001b[0;32mNone\u001b[0m\u001b[0;34m:\u001b[0m\u001b[0;34m\u001b[0m\u001b[0;34m\u001b[0m\u001b[0m\n\u001b[0;32m-> 1565\u001b[0;31m             \u001b[0;32mreturn\u001b[0m \u001b[0mfunc\u001b[0m\u001b[0;34m(\u001b[0m\u001b[0max\u001b[0m\u001b[0;34m,\u001b[0m \u001b[0;34m*\u001b[0m\u001b[0mmap\u001b[0m\u001b[0;34m(\u001b[0m\u001b[0msanitize_sequence\u001b[0m\u001b[0;34m,\u001b[0m \u001b[0margs\u001b[0m\u001b[0;34m)\u001b[0m\u001b[0;34m,\u001b[0m \u001b[0;34m**\u001b[0m\u001b[0mkwargs\u001b[0m\u001b[0;34m)\u001b[0m\u001b[0;34m\u001b[0m\u001b[0;34m\u001b[0m\u001b[0m\n\u001b[0m\u001b[1;32m   1566\u001b[0m \u001b[0;34m\u001b[0m\u001b[0m\n\u001b[1;32m   1567\u001b[0m         \u001b[0mbound\u001b[0m \u001b[0;34m=\u001b[0m \u001b[0mnew_sig\u001b[0m\u001b[0;34m.\u001b[0m\u001b[0mbind\u001b[0m\u001b[0;34m(\u001b[0m\u001b[0max\u001b[0m\u001b[0;34m,\u001b[0m \u001b[0;34m*\u001b[0m\u001b[0margs\u001b[0m\u001b[0;34m,\u001b[0m \u001b[0;34m**\u001b[0m\u001b[0mkwargs\u001b[0m\u001b[0;34m)\u001b[0m\u001b[0;34m\u001b[0m\u001b[0;34m\u001b[0m\u001b[0m\n",
            "\u001b[0;32m/usr/local/lib/python3.7/dist-packages/matplotlib/cbook/deprecation.py\u001b[0m in \u001b[0;36mwrapper\u001b[0;34m(*args, **kwargs)\u001b[0m\n\u001b[1;32m    356\u001b[0m                 \u001b[0;34mf\"%(removal)s.  If any parameter follows {name!r}, they \"\u001b[0m\u001b[0;34m\u001b[0m\u001b[0;34m\u001b[0m\u001b[0m\n\u001b[1;32m    357\u001b[0m                 f\"should be pass as keyword, not positionally.\")\n\u001b[0;32m--> 358\u001b[0;31m         \u001b[0;32mreturn\u001b[0m \u001b[0mfunc\u001b[0m\u001b[0;34m(\u001b[0m\u001b[0;34m*\u001b[0m\u001b[0margs\u001b[0m\u001b[0;34m,\u001b[0m \u001b[0;34m**\u001b[0m\u001b[0mkwargs\u001b[0m\u001b[0;34m)\u001b[0m\u001b[0;34m\u001b[0m\u001b[0;34m\u001b[0m\u001b[0m\n\u001b[0m\u001b[1;32m    359\u001b[0m \u001b[0;34m\u001b[0m\u001b[0m\n\u001b[1;32m    360\u001b[0m     \u001b[0;32mreturn\u001b[0m \u001b[0mwrapper\u001b[0m\u001b[0;34m\u001b[0m\u001b[0;34m\u001b[0m\u001b[0m\n",
            "\u001b[0;32m/usr/local/lib/python3.7/dist-packages/matplotlib/cbook/deprecation.py\u001b[0m in \u001b[0;36mwrapper\u001b[0;34m(*args, **kwargs)\u001b[0m\n\u001b[1;32m    356\u001b[0m                 \u001b[0;34mf\"%(removal)s.  If any parameter follows {name!r}, they \"\u001b[0m\u001b[0;34m\u001b[0m\u001b[0;34m\u001b[0m\u001b[0m\n\u001b[1;32m    357\u001b[0m                 f\"should be pass as keyword, not positionally.\")\n\u001b[0;32m--> 358\u001b[0;31m         \u001b[0;32mreturn\u001b[0m \u001b[0mfunc\u001b[0m\u001b[0;34m(\u001b[0m\u001b[0;34m*\u001b[0m\u001b[0margs\u001b[0m\u001b[0;34m,\u001b[0m \u001b[0;34m**\u001b[0m\u001b[0mkwargs\u001b[0m\u001b[0;34m)\u001b[0m\u001b[0;34m\u001b[0m\u001b[0;34m\u001b[0m\u001b[0m\n\u001b[0m\u001b[1;32m    359\u001b[0m \u001b[0;34m\u001b[0m\u001b[0m\n\u001b[1;32m    360\u001b[0m     \u001b[0;32mreturn\u001b[0m \u001b[0mwrapper\u001b[0m\u001b[0;34m\u001b[0m\u001b[0;34m\u001b[0m\u001b[0m\n",
            "\u001b[0;32m/usr/local/lib/python3.7/dist-packages/matplotlib/axes/_axes.py\u001b[0m in \u001b[0;36mimshow\u001b[0;34m(self, X, cmap, norm, aspect, interpolation, alpha, vmin, vmax, origin, extent, shape, filternorm, filterrad, imlim, resample, url, **kwargs)\u001b[0m\n\u001b[1;32m   5624\u001b[0m                               resample=resample, **kwargs)\n\u001b[1;32m   5625\u001b[0m \u001b[0;34m\u001b[0m\u001b[0m\n\u001b[0;32m-> 5626\u001b[0;31m         \u001b[0mim\u001b[0m\u001b[0;34m.\u001b[0m\u001b[0mset_data\u001b[0m\u001b[0;34m(\u001b[0m\u001b[0mX\u001b[0m\u001b[0;34m)\u001b[0m\u001b[0;34m\u001b[0m\u001b[0;34m\u001b[0m\u001b[0m\n\u001b[0m\u001b[1;32m   5627\u001b[0m         \u001b[0mim\u001b[0m\u001b[0;34m.\u001b[0m\u001b[0mset_alpha\u001b[0m\u001b[0;34m(\u001b[0m\u001b[0malpha\u001b[0m\u001b[0;34m)\u001b[0m\u001b[0;34m\u001b[0m\u001b[0;34m\u001b[0m\u001b[0m\n\u001b[1;32m   5628\u001b[0m         \u001b[0;32mif\u001b[0m \u001b[0mim\u001b[0m\u001b[0;34m.\u001b[0m\u001b[0mget_clip_path\u001b[0m\u001b[0;34m(\u001b[0m\u001b[0;34m)\u001b[0m \u001b[0;32mis\u001b[0m \u001b[0;32mNone\u001b[0m\u001b[0;34m:\u001b[0m\u001b[0;34m\u001b[0m\u001b[0;34m\u001b[0m\u001b[0m\n",
            "\u001b[0;32m/usr/local/lib/python3.7/dist-packages/matplotlib/image.py\u001b[0m in \u001b[0;36mset_data\u001b[0;34m(self, A)\u001b[0m\n\u001b[1;32m    692\u001b[0m                 not np.can_cast(self._A.dtype, float, \"same_kind\")):\n\u001b[1;32m    693\u001b[0m             raise TypeError(\"Image data of dtype {} cannot be converted to \"\n\u001b[0;32m--> 694\u001b[0;31m                             \"float\".format(self._A.dtype))\n\u001b[0m\u001b[1;32m    695\u001b[0m \u001b[0;34m\u001b[0m\u001b[0m\n\u001b[1;32m    696\u001b[0m         if not (self._A.ndim == 2\n",
            "\u001b[0;31mTypeError\u001b[0m: Image data of dtype object cannot be converted to float"
          ]
        },
        {
          "output_type": "display_data",
          "data": {
            "text/plain": [
              "<Figure size 432x288 with 2 Axes>"
            ],
            "image/png": "[encoded data removed]"
          },
          "metadata": {
            "needs_background": "light"
          }
        }
      ]
    },
    {
      "cell_type": "code",
      "source": [
        ""
      ],
      "metadata": {
        "id": "nnGsUZvY2bWj"
      },
      "execution_count": null,
      "outputs": []
    },
    {
      "cell_type": "code",
      "source": [
        "def create_and_store_binary_mask(df):\n",
        "  df.progress_apply(lambda x: cv2.imwrite(x[\"mask_destination\"], merge_images(x[\"list_of_masks\"])), axis=1)\n"
      ],
      "metadata": {
        "id": "zMdDW5WaO0YC"
      },
      "execution_count": null,
      "outputs": []
    },
    {
      "cell_type": "code",
      "source": [
        "create_and_store_binary_mask(image_mask_test)\n",
        "create_and_store_binary_mask(image_mask_train)\n"
      ],
      "metadata": {
        "id": "MiZkHIH9Ne0O"
      },
      "execution_count": null,
      "outputs": []
    },
    {
      "cell_type": "code",
      "source": [
        ""
      ],
      "metadata": {
        "id": "bIc5dwF_Ne4h"
      },
      "execution_count": null,
      "outputs": []
    },
    {
      "cell_type": "code",
      "source": [
        ""
      ],
      "metadata": {
        "id": "ZlNSoVpENe8o"
      },
      "execution_count": null,
      "outputs": []
    },
    {
      "cell_type": "code",
      "source": [
        ""
      ],
      "metadata": {
        "id": "QzFUL1_mNfAx"
      },
      "execution_count": null,
      "outputs": []
    },
    {
      "cell_type": "code",
      "source": [
        "# cv2.imwrite(x[\"mask_destination\"], merge_images(x[\"list_of_masks\"]"
      ],
      "metadata": {
        "id": "CjXCKePFNfFB"
      },
      "execution_count": null,
      "outputs": []
    },
    {
      "cell_type": "code",
      "source": [
        "# image_mask_test[\"mask_destination\"][0]"
      ],
      "metadata": {
        "id": "i8FqRGv7NfJI"
      },
      "execution_count": null,
      "outputs": []
    },
    {
      "cell_type": "code",
      "source": [
        "# tf.image.decode_png(image_mask_test[\"mask_destination\"][0])"
      ],
      "metadata": {
        "id": "RwuyYdacNfNM"
      },
      "execution_count": null,
      "outputs": []
    },
    {
      "cell_type": "code",
      "source": [
        ""
      ],
      "metadata": {
        "id": "ts_Mdp0lNfRn"
      },
      "execution_count": null,
      "outputs": []
    },
    {
      "cell_type": "code",
      "source": [
        ""
      ],
      "metadata": {
        "id": "sAvr1724NgQ0",
        "colab": {
          "base_uri": "https://localhost:8080/",
          "height": 269
        },
        "outputId": "cb904557-85e5-4bfa-fb0f-ef1409211702"
      },
      "execution_count": null,
      "outputs": [
        {
          "output_type": "display_data",
          "data": {
            "text/plain": [
              "<Figure size 432x288 with 1 Axes>"
            ],
            "image/png": "[encoded data removed]"
          },
          "metadata": {
            "needs_background": "light"
          }
        }
      ]
    },
    {
      "cell_type": "code",
      "source": [
        ""
      ],
      "metadata": {
        "id": "62It7yt1NgVZ"
      },
      "execution_count": null,
      "outputs": []
    },
    {
      "cell_type": "code",
      "source": [
        ""
      ],
      "metadata": {
        "id": "ww3Lca6gNgbC"
      },
      "execution_count": null,
      "outputs": []
    },
    {
      "cell_type": "code",
      "source": [
        ""
      ],
      "metadata": {
        "id": "XHGeUbJINggS"
      },
      "execution_count": null,
      "outputs": []
    },
    {
      "cell_type": "code",
      "source": [
        ""
      ],
      "metadata": {
        "id": "oNTbkH1qNgle"
      },
      "execution_count": null,
      "outputs": []
    },
    {
      "cell_type": "code",
      "source": [
        ""
      ],
      "metadata": {
        "id": "AK_wNvXYNgqf"
      },
      "execution_count": null,
      "outputs": []
    },
    {
      "cell_type": "code",
      "source": [
        ""
      ],
      "metadata": {
        "id": "8JNiTgEmNgvb"
      },
      "execution_count": null,
      "outputs": []
    },
    {
      "cell_type": "code",
      "source": [
        ""
      ],
      "metadata": {
        "id": "kktMIfeWNg2w"
      },
      "execution_count": null,
      "outputs": []
    },
    {
      "cell_type": "code",
      "source": [
        ""
      ],
      "metadata": {
        "id": "io_SqbjpNg6-"
      },
      "execution_count": null,
      "outputs": []
    },
    {
      "cell_type": "code",
      "source": [
        "drop_duplicate_test= test_df[[\"image_file\",\"pathology\"]].drop_duplicates()"
      ],
      "metadata": {
        "id": "ftaj1pE2O0ee"
      },
      "execution_count": null,
      "outputs": []
    },
    {
      "cell_type": "code",
      "source": [
        "idx1 = pd.Index(image_mask.image_file)\n",
        "idx2 = pd.Index(drop_duplicate_test.image_file)\n",
        "\n",
        "idx1.difference(idx2).values\n"
      ],
      "metadata": {
        "colab": {
          "base_uri": "https://localhost:8080/"
        },
        "id": "y1Nzg_OvO0le",
        "outputId": "805e488a-4cd9-47df-eecb-d961df45b47e"
      },
      "execution_count": null,
      "outputs": [
        {
          "output_type": "execute_result",
          "data": {
            "text/plain": [
              "array([], dtype=object)"
            ]
          },
          "metadata": {},
          "execution_count": 51
        }
      ]
    },
    {
      "cell_type": "code",
      "source": [
        ""
      ],
      "metadata": {
        "id": "C-PFCbl5O0sm"
      },
      "execution_count": null,
      "outputs": []
    },
    {
      "cell_type": "code",
      "source": [
        ""
      ],
      "metadata": {
        "id": "kpxy4VE7O00j"
      },
      "execution_count": null,
      "outputs": []
    },
    {
      "cell_type": "code",
      "source": [
        ""
      ],
      "metadata": {
        "id": "HzaNALmFO07v"
      },
      "execution_count": null,
      "outputs": []
    },
    {
      "cell_type": "code",
      "source": [
        ""
      ],
      "metadata": {
        "id": "ulhGvQ1BO1C0"
      },
      "execution_count": null,
      "outputs": []
    },
    {
      "cell_type": "code",
      "source": [
        ""
      ],
      "metadata": {
        "id": "ZEeIdqQFO1J3"
      },
      "execution_count": null,
      "outputs": []
    },
    {
      "cell_type": "code",
      "source": [
        ""
      ],
      "metadata": {
        "id": "qdcHYqP6O1Qo"
      },
      "execution_count": null,
      "outputs": []
    },
    {
      "cell_type": "code",
      "source": [
        ""
      ],
      "metadata": {
        "id": "SjwepQqdO1Xk"
      },
      "execution_count": null,
      "outputs": []
    },
    {
      "cell_type": "code",
      "source": [
        ""
      ],
      "metadata": {
        "id": "yIURehmYO1ef"
      },
      "execution_count": null,
      "outputs": []
    },
    {
      "cell_type": "code",
      "source": [
        ""
      ],
      "metadata": {
        "id": "IVUUfA16O1lQ"
      },
      "execution_count": null,
      "outputs": []
    },
    {
      "cell_type": "code",
      "source": [
        ""
      ],
      "metadata": {
        "id": "gx2Q1mXZO1ri"
      },
      "execution_count": null,
      "outputs": []
    },
    {
      "cell_type": "code",
      "source": [
        ""
      ],
      "metadata": {
        "id": "5pwAaeiZO1yK"
      },
      "execution_count": null,
      "outputs": []
    },
    {
      "cell_type": "code",
      "source": [
        ""
      ],
      "metadata": {
        "id": "6502wddlO14w"
      },
      "execution_count": null,
      "outputs": []
    },
    {
      "cell_type": "code",
      "source": [
        ""
      ],
      "metadata": {
        "id": "qMJ8tAnQO1_K"
      },
      "execution_count": null,
      "outputs": []
    },
    {
      "cell_type": "code",
      "source": [
        ""
      ],
      "metadata": {
        "id": "FUF1izTxO2FS"
      },
      "execution_count": null,
      "outputs": []
    },
    {
      "cell_type": "code",
      "source": [
        ""
      ],
      "metadata": {
        "id": "eJznKOLWO2Ld"
      },
      "execution_count": null,
      "outputs": []
    },
    {
      "cell_type": "code",
      "source": [
        ""
      ],
      "metadata": {
        "id": "SBaHPrNMO2RW"
      },
      "execution_count": null,
      "outputs": []
    },
    {
      "cell_type": "code",
      "source": [
        ""
      ],
      "metadata": {
        "id": "wUTaZycwO2Xb"
      },
      "execution_count": null,
      "outputs": []
    },
    {
      "cell_type": "code",
      "source": [
        ""
      ],
      "metadata": {
        "id": "65EPr1-cO2dh"
      },
      "execution_count": null,
      "outputs": []
    },
    {
      "cell_type": "code",
      "source": [
        ""
      ],
      "metadata": {
        "id": "pujiEfzxO2j2"
      },
      "execution_count": null,
      "outputs": []
    },
    {
      "cell_type": "code",
      "source": [
        ""
      ],
      "metadata": {
        "id": "DvOnwLrzO2p5"
      },
      "execution_count": null,
      "outputs": []
    },
    {
      "cell_type": "code",
      "source": [
        ""
      ],
      "metadata": {
        "id": "awQtcB93O2vv"
      },
      "execution_count": null,
      "outputs": []
    },
    {
      "cell_type": "code",
      "source": [
        ""
      ],
      "metadata": {
        "id": "XJorK4wSO21r"
      },
      "execution_count": null,
      "outputs": []
    },
    {
      "cell_type": "code",
      "source": [
        ""
      ],
      "metadata": {
        "id": "ZkX7rYL5O27s"
      },
      "execution_count": null,
      "outputs": []
    },
    {
      "cell_type": "code",
      "source": [
        ""
      ],
      "metadata": {
        "id": "Qr_BJDqiO3B5"
      },
      "execution_count": null,
      "outputs": []
    },
    {
      "cell_type": "code",
      "source": [
        ""
      ],
      "metadata": {
        "id": "-s9x11sQO3HG"
      },
      "execution_count": null,
      "outputs": []
    },
    {
      "cell_type": "code",
      "source": [
        ""
      ],
      "metadata": {
        "id": "p-FuQq-YO3MI"
      },
      "execution_count": null,
      "outputs": []
    },
    {
      "cell_type": "code",
      "source": [
        ""
      ],
      "metadata": {
        "id": "QhmLlP8tO3Q2"
      },
      "execution_count": null,
      "outputs": []
    },
    {
      "cell_type": "code",
      "source": [
        ""
      ],
      "metadata": {
        "id": "bxiG0i4HO3Vc"
      },
      "execution_count": null,
      "outputs": []
    },
    {
      "cell_type": "code",
      "source": [
        ""
      ],
      "metadata": {
        "id": "q7f4wlLqO3ZT"
      },
      "execution_count": null,
      "outputs": []
    },
    {
      "cell_type": "code",
      "source": [
        ""
      ],
      "metadata": {
        "id": "nHmjZjXbO3du"
      },
      "execution_count": null,
      "outputs": []
    },
    {
      "cell_type": "code",
      "source": [
        ""
      ],
      "metadata": {
        "id": "LE5Eb9LtO3iB"
      },
      "execution_count": null,
      "outputs": []
    },
    {
      "cell_type": "code",
      "source": [
        "def cropBorders(img, l=0.01, r=0.01, u=0.04, d=0.04):\n",
        "\n",
        "    nrows, ncols = img.shape\n",
        "\n",
        "    # Get the start and end rows and columns\n",
        "    l_crop = int(ncols * l)\n",
        "    r_crop = int(ncols * (1 - r))\n",
        "    u_crop = int(nrows * u)\n",
        "    d_crop = int(nrows * (1 - d))\n",
        "\n",
        "    cropped_img = img[u_crop:d_crop, l_crop:r_crop]\n",
        "\n",
        "    return cropped_img\n",
        "\n",
        "\n",
        "def minMaxNormalise(img):\n",
        "\n",
        "    norm_img = (img - img.min()) / (img.max() - img.min())\n",
        "\n",
        "    return norm_img\n",
        "\n",
        "def globalBinarise(img, thresh, maxval):\n",
        "\n",
        "    binarised_img = np.zeros(img.shape, np.uint8)\n",
        "    binarised_img[img >= thresh] = maxval\n",
        "\n",
        "    return binarised_img\n",
        "\n",
        "def editMask(mask, ksize=(23, 23), operation=\"open\"):\n",
        "\n",
        "    kernel = cv2.getStructuringElement(shape=cv2.MORPH_RECT, ksize=ksize)\n",
        "\n",
        "    if operation == \"open\":\n",
        "        edited_mask = cv2.morphologyEx(mask, cv2.MORPH_OPEN, kernel)\n",
        "    elif operation == \"close\":\n",
        "        edited_mask = cv2.morphologyEx(mask, cv2.MORPH_CLOSE, kernel)\n",
        "\n",
        "    # Then dilate\n",
        "    edited_mask = cv2.morphologyEx(edited_mask, cv2.MORPH_DILATE, kernel)\n",
        "\n",
        "    return edited_mask\n",
        "\n",
        "def sortContoursByArea(contours, reverse=True):\n",
        "\n",
        "    # Sort contours based on contour area.\n",
        "    sorted_contours = sorted(contours, key=cv2.contourArea, reverse=reverse)\n",
        "\n",
        "    # Construct the list of corresponding bounding boxes.\n",
        "    bounding_boxes = [cv2.boundingRect(c) for c in sorted_contours]\n",
        "\n",
        "    return sorted_contours, bounding_boxes\n",
        "\n",
        "def xLargestBlobs(mask, top_x=None, reverse=True):\n",
        "\n",
        "    # Find all contours from binarised image.\n",
        "    # Note: parts of the image that you want to get should be white.\n",
        "    contours, hierarchy = cv2.findContours(\n",
        "        image=mask, mode=cv2.RETR_EXTERNAL, method=cv2.CHAIN_APPROX_NONE\n",
        "    )\n",
        "\n",
        "    n_contours = len(contours)\n",
        "\n",
        "    # Only get largest blob if there is at least 1 contour.\n",
        "    if n_contours > 0:\n",
        "\n",
        "        # Make sure that the number of contours to keep is at most equal\n",
        "        # to the number of contours present in the mask.\n",
        "        if n_contours < top_x or top_x == None:\n",
        "            top_x = n_contours\n",
        "\n",
        "        # Sort contours based on contour area.\n",
        "        sorted_contours, bounding_boxes = sortContoursByArea(\n",
        "            contours=contours, reverse=reverse\n",
        "        )\n",
        "\n",
        "        # Get the top X largest contours.\n",
        "        X_largest_contours = sorted_contours[0:top_x]\n",
        "\n",
        "        # Create black canvas to draw contours on.\n",
        "        to_draw_on = np.zeros(mask.shape, np.uint8)\n",
        "\n",
        "        # Draw contours in X_largest_contours.\n",
        "        X_largest_blobs = cv2.drawContours(\n",
        "            image=to_draw_on,  # Draw the contours on `to_draw_on`.\n",
        "            contours=X_largest_contours,  # List of contours to draw.\n",
        "            contourIdx=-1,  # Draw all contours in `contours`.\n",
        "            color=1,  # Draw the contours in white.\n",
        "            thickness=-1,  # Thickness of the contour lines.\n",
        "        )\n",
        "\n",
        "    return n_contours, X_largest_blobs\n",
        "\n",
        "\n",
        "def applyMask(img, mask):\n",
        "\n",
        "    masked_img = img.copy()\n",
        "    masked_img[mask == 0] = 0\n",
        "\n",
        "    return masked_img\n",
        "\n",
        "\n",
        "def checkLRFlip(mask):\n",
        "\n",
        "    # Get number of rows and columns in the image.\n",
        "    nrows, ncols = mask.shape\n",
        "    x_center = ncols // 2\n",
        "    y_center = nrows // 2\n",
        "\n",
        "    # Sum down each column.\n",
        "    col_sum = mask.sum(axis=0)\n",
        "    # Sum across each row.\n",
        "    row_sum = mask.sum(axis=1)\n",
        "\n",
        "    left_sum = sum(col_sum[0:x_center])\n",
        "    right_sum = sum(col_sum[x_center:-1])\n",
        "\n",
        "    if left_sum < right_sum:\n",
        "        LR_flip = True\n",
        "    else:\n",
        "        LR_flip = False\n",
        "\n",
        "    return LR_flip\n",
        "\n",
        "\n",
        "def makeLRFlip(img):\n",
        "\n",
        "    flipped_img = np.fliplr(img)\n",
        "\n",
        "    return flipped_img\n",
        "\n",
        "\n",
        "def clahe(img, clip=2.0, tile=(8, 8)):\n",
        "\n",
        "    img = cv2.normalize(\n",
        "        img,\n",
        "        None,\n",
        "        alpha=0,\n",
        "        beta=255,\n",
        "        norm_type=cv2.NORM_MINMAX,\n",
        "        dtype=cv2.CV_32F,\n",
        "    )\n",
        "    img_uint8 = img.astype(\"uint8\")\n",
        "\n",
        "    clahe_create = cv2.createCLAHE(clipLimit=clip, tileGridSize=tile)\n",
        "    clahe_img = clahe_create.apply(img_uint8)\n",
        "\n",
        "    return clahe_img\n",
        "\n",
        "def pad(img):\n",
        "\n",
        "    nrows, ncols = img.shape\n",
        "\n",
        "    # If padding is required...\n",
        "    if nrows != ncols:\n",
        "\n",
        "        # Take the longer side as the target shape.\n",
        "        if ncols < nrows:\n",
        "            target_shape = (nrows, nrows)\n",
        "        elif nrows < ncols:\n",
        "            target_shape = (ncols, ncols)\n",
        "\n",
        "        # pad.\n",
        "        padded_img = np.zeros(shape=target_shape)\n",
        "        padded_img[:nrows, :ncols] = img\n",
        "\n",
        "    # If padding is not required...\n",
        "    elif nrows == ncols:\n",
        "\n",
        "        # Return original image.\n",
        "        padded_img = img\n",
        "\n",
        "    return padded_img"
      ],
      "metadata": {
        "id": "VxdfGTVrHAyd"
      },
      "execution_count": null,
      "outputs": []
    },
    {
      "cell_type": "code",
      "source": [
        "l=.001\n",
        "r=.04\n",
        "d=.01\n",
        "u=0.1\n",
        "thresh=0.1\n",
        "maxval=1\n",
        "ksize=23 \n",
        "operation=\"open\"\n",
        "reverse=True\n",
        "top_x=1\n",
        "clip=2.0\n",
        "tile=8\n",
        "\n",
        "\n",
        "def fullMammoPreprocess(img,\n",
        "                        l=l,\n",
        "                        r=r,\n",
        "                        d=d,\n",
        "                        u=u,\n",
        "                        thresh=thresh,\n",
        "                        maxval=maxval,\n",
        "                        ksize=ksize, \n",
        "                        operation=operation,\n",
        "                        reverse=reverse,\n",
        "                        top_x=top_x,\n",
        "                        clip=clip,\n",
        "                        tile=tile):\n",
        "\n",
        "    # Step 1: Initial crop.\n",
        "    cropped_img = cropBorders(img=img, l=l, r=r, d=d, u=u)\n",
        "\n",
        "    # Step 2: Min-max normalise.\n",
        "    norm_img = minMaxNormalise(img=cropped_img)\n",
        "\n",
        "    # Step 3: Remove artefacts.\n",
        "    binarised_img = globalBinarise(img=norm_img, thresh=thresh, maxval=maxval)\n",
        "    edited_mask = editMask(\n",
        "        mask=binarised_img, ksize=(ksize, ksize), operation=operation\n",
        "    )\n",
        "    _, xlargest_mask = xLargestBlobs(mask=edited_mask, top_x=top_x, reverse=reverse)\n",
        "\n",
        "    masked_img = applyMask(img=norm_img, mask=xlargest_mask)\n",
        "\n",
        "    # Step 4: Horizontal flip.\n",
        "    lr_flip = checkLRFlip(mask=xlargest_mask)\n",
        "    if lr_flip:\n",
        "        flipped_img = makeLRFlip(img=masked_img)\n",
        "    elif not lr_flip:\n",
        "        flipped_img = masked_img\n",
        "\n",
        "    # Step 5: CLAHE enhancement.\n",
        "    clahe_img = clahe(img=flipped_img, clip=clip, tile=(tile, tile))\n",
        "\n",
        "    # Step 6: pad.\n",
        "    padded_img = pad(img=clahe_img)\n",
        "    padded_img = cv2.normalize(\n",
        "        padded_img,\n",
        "        None,\n",
        "        alpha=0,\n",
        "        beta=255,\n",
        "        norm_type=cv2.NORM_MINMAX,\n",
        "        dtype=cv2.CV_32F,\n",
        "    )\n",
        "\n",
        "    # Step 7: Min-max normalise.\n",
        "    img_pre = minMaxNormalise(img=padded_img)\n",
        "\n",
        "    return img_pre, lr_flip\n",
        "\n",
        "\n",
        "\n",
        "def maskPreprocess(mask, \n",
        "                   lr_flip,\n",
        "                   l=l,\n",
        "                   r=r,\n",
        "                   d=d,\n",
        "                   u=u):\n",
        "\n",
        "    # Step 1: Initial crop.\n",
        "    cropped_img = cropBorders(img=mask, l=l, r=r, d=d, u=u)\n",
        "\n",
        "    # Step 2: Horizontal flip.\n",
        "    if lr_flip:\n",
        "        cropped_img = makeLRFlip(img=cropped_img)\n",
        "\n",
        "    # Step 3: Pad.\n",
        "    mask_pre = pad(img=cropped_img)\n",
        "\n",
        "    return mask_pre"
      ],
      "metadata": {
        "id": "tUJAEqdVLaet"
      },
      "execution_count": null,
      "outputs": []
    },
    {
      "cell_type": "code",
      "source": [
        ""
      ],
      "metadata": {
        "id": "oY4fHW_wLbHw"
      },
      "execution_count": null,
      "outputs": []
    }
  ]
}